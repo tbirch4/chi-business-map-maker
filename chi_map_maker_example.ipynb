{
  "nbformat": 4,
  "nbformat_minor": 0,
  "metadata": {
    "colab": {
      "provenance": [],
      "collapsed_sections": [],
      "authorship_tag": "ABX9TyP3yK6YjmWCwd3OZJYCarmT",
      "include_colab_link": true
    },
    "kernelspec": {
      "name": "python3",
      "display_name": "Python 3"
    },
    "language_info": {
      "name": "python"
    }
  },
  "cells": [
    {
      "cell_type": "markdown",
      "metadata": {
        "id": "view-in-github",
        "colab_type": "text"
      },
      "source": [
        "<a href=\"https://colab.research.google.com/github/tbirch4/chi-company-map-maker/blob/main/chi_map_maker_example.ipynb\" target=\"_parent\"><img src=\"https://colab.research.google.com/assets/colab-badge.svg\" alt=\"Open In Colab\"/></a>"
      ]
    },
    {
      "cell_type": "markdown",
      "source": [
        "# Chicago Company Map Maker\n",
        "\n",
        "Use this notebook to create your own maps! Just change `your_company_name` and click Runtime -> Run all in the menu bar.\n",
        "\n",
        "[Source](https://github.com/tbirch4/chi-company-map-maker)"
      ],
      "metadata": {
        "id": "-qoQatpHk10K"
      }
    },
    {
      "cell_type": "code",
      "source": [
        "your_company_name = \"Lou Malnati's\""
      ],
      "metadata": {
        "id": "lGLSY8TZlHJV"
      },
      "execution_count": 20,
      "outputs": []
    },
    {
      "cell_type": "code",
      "execution_count": 23,
      "metadata": {
        "id": "u0Qq4wZDhEkH"
      },
      "outputs": [],
      "source": [
        "%%capture\n",
        "!git clone https://github.com/tbirch4/chi-company-map-maker # Clone GitHub repo.\n",
        "!pip install geopandas # Download mapping library."
      ]
    },
    {
      "cell_type": "code",
      "source": [
        "import ChiMapMaker as cmm\n",
        "\n",
        "cmm.make_map(your_company_name)"
      ],
      "metadata": {
        "id": "sHXN0iw5h85P"
      },
      "execution_count": null,
      "outputs": []
    }
  ]
}